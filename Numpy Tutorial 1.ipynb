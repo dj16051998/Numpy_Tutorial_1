{
 "cells": [
  {
   "cell_type": "code",
   "execution_count": 1,
   "id": "e1c4bc94",
   "metadata": {},
   "outputs": [
    {
     "name": "stdout",
     "output_type": "stream",
     "text": [
      "[1 2 3]\n",
      "[5 6 7]\n"
     ]
    }
   ],
   "source": [
    "##############################\n",
    "#Ways Of Creating numpy array#\n",
    "##############################\n",
    "###########################\n",
    "#1st Way :- using np.array#\n",
    "###########################\n",
    "import numpy as np\n",
    "a=np.array([1,2,3])\n",
    "b=np.array([5,6,7])\n",
    "print(a)\n",
    "print(b)"
   ]
  },
  {
   "cell_type": "code",
   "execution_count": 3,
   "id": "1c584406",
   "metadata": {},
   "outputs": [
    {
     "name": "stdout",
     "output_type": "stream",
     "text": [
      "[ 5 10 15 20 25 30 35 40 45]\n"
     ]
    }
   ],
   "source": [
    "############################\n",
    "#2nd Way :- using np.arange#\n",
    "############################\n",
    "\n",
    "c=np.arange(5,50,5)\n",
    "print(c)"
   ]
  },
  {
   "cell_type": "code",
   "execution_count": 10,
   "id": "7f6ace20",
   "metadata": {},
   "outputs": [
    {
     "name": "stdout",
     "output_type": "stream",
     "text": [
      "[1.         0.88888889 0.77777778 0.66666667]\n"
     ]
    }
   ],
   "source": [
    "##############################\n",
    "#3rd Way :- using np.linspace#\n",
    "##############################\n",
    "\n",
    "d=np.linspace(1,2/3,4)\n",
    "print(d)"
   ]
  },
  {
   "cell_type": "code",
   "execution_count": 11,
   "id": "12acd4ff",
   "metadata": {},
   "outputs": [
    {
     "name": "stdout",
     "output_type": "stream",
     "text": [
      "[ 1  2  3  4  5  6  7  8  9 10]\n"
     ]
    }
   ],
   "source": [
    "#######################\n",
    "#4th Way :- using list#\n",
    "#######################\n",
    "\n",
    "L=[1,2,3,4,5,6,7,8,9,10]\n",
    "arr=np.array(L)\n",
    "print(arr)"
   ]
  },
  {
   "cell_type": "code",
   "execution_count": 12,
   "id": "c4deb428",
   "metadata": {},
   "outputs": [
    {
     "name": "stdout",
     "output_type": "stream",
     "text": [
      "[ 1  2  3  4  5  6  7  8  9 10]\n"
     ]
    }
   ],
   "source": [
    "########################\n",
    "#5th Way :- using tuple#\n",
    "########################\n",
    "\n",
    "T=(1,2,3,4,5,6,7,8,9,10)\n",
    "Tarr=np.array(T)\n",
    "print(Tarr)"
   ]
  },
  {
   "cell_type": "code",
   "execution_count": 13,
   "id": "9e4bcf17",
   "metadata": {},
   "outputs": [
    {
     "name": "stdout",
     "output_type": "stream",
     "text": [
      "[[1 1 1 1 1]\n",
      " [1 1 1 1 1]\n",
      " [1 1 1 1 1]\n",
      " [1 1 1 1 1]]\n"
     ]
    }
   ],
   "source": [
    "##########################\n",
    "#6th Way :- using np.ones#\n",
    "##########################\n",
    "\n",
    "e=np.ones((4,5),dtype=np.int16)\n",
    "print(e)"
   ]
  },
  {
   "cell_type": "code",
   "execution_count": 15,
   "id": "80822356",
   "metadata": {},
   "outputs": [
    {
     "name": "stdout",
     "output_type": "stream",
     "text": [
      "[[0 0 0 0 0]\n",
      " [0 0 0 0 0]\n",
      " [0 0 0 0 0]\n",
      " [0 0 0 0 0]]\n"
     ]
    }
   ],
   "source": [
    "###########################\n",
    "#7th Way :- using np.zeros#\n",
    "###########################\n",
    "\n",
    "f=np.zeros((4,5),dtype=np.int16)\n",
    "print(f)"
   ]
  },
  {
   "cell_type": "code",
   "execution_count": 16,
   "id": "e9f62bda",
   "metadata": {},
   "outputs": [
    {
     "name": "stdout",
     "output_type": "stream",
     "text": [
      "[[2.3 2.3 2.3 2.3 2.3]\n",
      " [2.3 2.3 2.3 2.3 2.3]\n",
      " [2.3 2.3 2.3 2.3 2.3]\n",
      " [2.3 2.3 2.3 2.3 2.3]]\n"
     ]
    }
   ],
   "source": [
    "##########################\n",
    "#8th Way :- using np.full#\n",
    "##########################\n",
    "\n",
    "g=np.full((4,5),2.3)\n",
    "print(g)"
   ]
  },
  {
   "cell_type": "code",
   "execution_count": 20,
   "id": "17ac3753",
   "metadata": {},
   "outputs": [
    {
     "name": "stdout",
     "output_type": "stream",
     "text": [
      "[[0.14033145 0.19128301 0.00628659 0.90210402 0.07744949]\n",
      " [0.7304954  0.40145157 0.11724676 0.15145662 0.44356867]\n",
      " [0.69928066 0.61290881 0.64299751 0.9848059  0.99984902]\n",
      " [0.71953127 0.20750739 0.58911245 0.21154268 0.65103409]]\n"
     ]
    }
   ],
   "source": [
    "#################################\n",
    "#9th Way :- using np.random.rand#\n",
    "#################################\n",
    "\n",
    "h=np.random.rand(4,5)\n",
    "print(h)"
   ]
  },
  {
   "cell_type": "code",
   "execution_count": 22,
   "id": "29e1e7e4",
   "metadata": {},
   "outputs": [
    {
     "name": "stdout",
     "output_type": "stream",
     "text": [
      "[[0.14033145 0.19128301 0.00628659 0.90210402 0.07744949]\n",
      " [0.7304954  0.40145157 0.11724676 0.15145662 0.44356867]\n",
      " [0.69928066 0.61290881 0.64299751 0.9848059  0.99984902]\n",
      " [0.71953127 0.20750739 0.58911245 0.21154268 0.65103409]]\n"
     ]
    }
   ],
   "source": [
    "############################\n",
    "#10th Way :- using np.empty#\n",
    "############################\n",
    "\n",
    "i=np.empty((4,5))\n",
    "print(i)"
   ]
  },
  {
   "cell_type": "code",
   "execution_count": 23,
   "id": "ff2df082",
   "metadata": {},
   "outputs": [
    {
     "name": "stdout",
     "output_type": "stream",
     "text": [
      "[[1. 0. 0. 0.]\n",
      " [0. 1. 0. 0.]\n",
      " [0. 0. 1. 0.]\n",
      " [0. 0. 0. 1.]]\n"
     ]
    }
   ],
   "source": [
    "##########################\n",
    "#11th Way :- using np.eye#\n",
    "##########################\n",
    "\n",
    "j=np.eye(4,4)\n",
    "print(j)"
   ]
  },
  {
   "cell_type": "code",
   "execution_count": 27,
   "id": "2946d96a",
   "metadata": {},
   "outputs": [
    {
     "name": "stdout",
     "output_type": "stream",
     "text": [
      "[[1 0 0 0]\n",
      " [0 1 0 0]\n",
      " [0 0 1 0]\n",
      " [0 0 0 1]]\n"
     ]
    }
   ],
   "source": [
    "###############################\n",
    "#12th Way :- using np.identity#\n",
    "###############################\n",
    "\n",
    "k=np.identity(4,dtype=np.int16)\n",
    "print(k)"
   ]
  },
  {
   "cell_type": "code",
   "execution_count": 54,
   "id": "98754a9c",
   "metadata": {},
   "outputs": [
    {
     "name": "stdout",
     "output_type": "stream",
     "text": [
      "Empty Array =\n",
      " [[0. 0. 0.]\n",
      " [0. 0. 0.]\n",
      " [0. 0. 0.]\n",
      " [0. 0. 0.]\n",
      " [0. 0. 0.]]\n",
      "\n",
      "Ndim = 2\n",
      "Shape = (5, 3)\n",
      "Size = 15\n",
      "Dtype = float64\n",
      "Itemsize = 8\n",
      "\n",
      "Reshape Array =\n",
      " [[0. 0. 0. 0. 0.]\n",
      " [0. 0. 0. 0. 0.]\n",
      " [0. 0. 0. 0. 0.]]\n",
      "\n",
      "Head =\n",
      " 0    0.002615\n",
      "1    0.411762\n",
      "dtype: float64\n",
      "\n",
      "Tail =\n",
      " 8    0.458269\n",
      "9    0.753619\n",
      "dtype: float64\n"
     ]
    }
   ],
   "source": [
    "#Array Attributes#\n",
    "\n",
    "#Ndim#\n",
    "#Shape#\n",
    "#Size#\n",
    "#Dtype#\n",
    "#Itemsize#\n",
    "#Reshape#\n",
    "#Head#\n",
    "#Tail#\n",
    "\n",
    "l=np.empty((5,3))\n",
    "print(\"Empty Array =\\n\",l)\n",
    "\n",
    "print()\n",
    "\n",
    "m=np.ndim(l)\n",
    "print(\"Ndim =\",m)\n",
    "\n",
    "n=np.shape(l)\n",
    "print(\"Shape =\",n)\n",
    "\n",
    "o=np.size(l)\n",
    "print(\"Size =\",o)\n",
    "\n",
    "p=l.dtype\n",
    "print(\"Dtype =\",p)\n",
    "\n",
    "q=l.itemsize\n",
    "print(\"Itemsize =\",q)\n",
    "\n",
    "print()\n",
    "\n",
    "r=l.reshape(3,5)\n",
    "print(\"Reshape Array =\\n\",r)\n",
    "\n",
    "import pandas as pd\n",
    "\n",
    "S=pd.Series(np.random.rand(10))\n",
    "\n",
    "print()\n",
    "\n",
    "s=S.head(2)\n",
    "print(\"Head =\\n\",s)\n",
    "\n",
    "print()\n",
    "\n",
    "t=S.tail(2)\n",
    "print(\"Tail =\\n\",t)"
   ]
  }
 ],
 "metadata": {
  "kernelspec": {
   "display_name": "Python 3 (ipykernel)",
   "language": "python",
   "name": "python3"
  },
  "language_info": {
   "codemirror_mode": {
    "name": "ipython",
    "version": 3
   },
   "file_extension": ".py",
   "mimetype": "text/x-python",
   "name": "python",
   "nbconvert_exporter": "python",
   "pygments_lexer": "ipython3",
   "version": "3.10.9"
  }
 },
 "nbformat": 4,
 "nbformat_minor": 5
}
